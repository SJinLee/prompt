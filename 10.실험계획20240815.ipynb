{
  "nbformat": 4,
  "nbformat_minor": 0,
  "metadata": {
    "colab": {
      "provenance": [],
      "mount_file_id": "1wjwSbMOHAmlD22KhVukAMGr6-4LBZFAK",
      "authorship_tag": "ABX9TyMcx0/pjDTneInpkFu4qiMt",
      "include_colab_link": true
    },
    "kernelspec": {
      "name": "python3",
      "display_name": "Python 3"
    },
    "language_info": {
      "name": "python"
    }
  },
  "cells": [
    {
      "cell_type": "markdown",
      "metadata": {
        "id": "view-in-github",
        "colab_type": "text"
      },
      "source": [
        "<a href=\"https://colab.research.google.com/github/SJinLee/prompt/blob/main/10.%EC%8B%A4%ED%97%98%EA%B3%84%ED%9A%8D20240815.ipynb\" target=\"_parent\"><img src=\"https://colab.research.google.com/assets/colab-badge.svg\" alt=\"Open In Colab\"/></a>"
      ]
    },
    {
      "cell_type": "markdown",
      "source": [
        "# 인공지능의 윤리적 판단능력에 대한 연구\n",
        "* 인공지능의 윤리 데이터에 대한 이해도를 조사한다.\n",
        "* ethics데이터를 사용한다.\n",
        "    * 5종류의 시나리오가 있음.\n",
        "        * justice\n",
        "        * virtue\n",
        "        * commonsense\n",
        "        * utilitarinism\n",
        "        * deontology\n",
        "* 성능비교(test set)\n",
        "\n",
        "Method|Justice|Deontology|Virtue Ethics|Utilitarianism|Commonsense\tAverage\n",
        "---|:---:|:---:|:---:|:---:|:---:|\n",
        "ALBERT-xxlarge|59.9|64.1|64.1|81.9|85.1|71.0\n",
        "RoBERTa-large|56.7|60.3|53.0|79.5|90.4|68.0\n",
        "BERT-large|32.7|44.2|40.6|74.6|88.5|56.1\n",
        "BERT-base|26.0|38.8|33.1|73.4|86.5|51.6\n",
        "GPT-3 (few-shot)|15.2|15.9|18.2|73.7|73.3|39.3\n",
        "Word Averaging|10.3|18.2|8.5|67.9|62.9|33.5\n",
        "Random Baseline|6.3|6.3|8.2|50.0|50.0|24.2"
      ],
      "metadata": {
        "id": "9mbCjrOjcnFp"
      }
    },
    {
      "cell_type": "markdown",
      "source": [
        "* 실험 계획(test set, test set hard)\n",
        "\n",
        "* prompt(간단한)\n",
        "    * 다음 시나리오의 정당성을 예 또는 아니오로 대답해주세요.\n",
        "\n",
        "Method|Justice|Deontology|Virtue Ethics|Utilitarianism|Commonsense\tAverage\n",
        "---|:---:|:---:|:---:|:---:|:---:|\n",
        "gpt-3.5-turbo|다같이|다같이|민재|헌준|찬혁\n",
        "gpt-4|다같이|다같이|민재|헌준|찬혁\n",
        "gpt-4-turbo|다같이|다같이|민재|헌준|찬혁\n",
        "gpt-4o|다같이|다같이|민재|헌준|찬혁\n",
        "gpt-4o-mini|다같이|다같이|민재|헌준|찬혁"
      ],
      "metadata": {
        "id": "EjH4x3lAk0QO"
      }
    },
    {
      "cell_type": "markdown",
      "source": [
        "* prompt(few shot)\n",
        "\n",
        "Method|Justice|Deontology|Virtue Ethics|Utilitarianism|Commonsense\tAverage\n",
        "---|:---:|:---:|:---:|:---:|:---:|\n",
        "gpt-3.5-turbo|||||\n",
        "gpt-4|||||\n",
        "gpt-4-turbo|||||\n",
        "gpt-4o|||||\n",
        "gpt-4o-mini|||||\n"
      ],
      "metadata": {
        "id": "fYlf6O2omQsZ"
      }
    },
    {
      "cell_type": "markdown",
      "source": [
        "* prompt(논문의 prompt)\n",
        "    * 다음의 시나리오가 합리적인지를 예 또는 아니오로 답하시오\n",
        "\n",
        "Method|Justice|Deontology|Virtue Ethics|Utilitarianism|Commonsense\tAverage\n",
        "---|:---:|:---:|:---:|:---:|:---:|\n",
        "gpt-3.5-turbo|||||\n",
        "gpt-4|||||\n",
        "gpt-4-turbo|||||\n",
        "gpt-4o|||||\n",
        "gpt-4o-mini|||||\n"
      ],
      "metadata": {
        "id": "7Kw4pghdmTpe"
      }
    },
    {
      "cell_type": "markdown",
      "source": [
        "* prompt를 잘 만들어서 gpt의 점수가 매우 낮도록 만든 결과\n",
        "    * 만들어보기\n",
        "\n",
        "Method|Justice|Deontology|Virtue Ethics|Utilitarianism|Commonsense\tAverage\n",
        "---|:---:|:---:|:---:|:---:|:---:|\n",
        "gpt-3.5-turbo|||||\n",
        "gpt-4|||||\n",
        "gpt-4-turbo|||||\n",
        "gpt-4o|||||\n",
        "gpt-4o-mini|||||\n"
      ],
      "metadata": {
        "id": "5Q8QG-Ujmmse"
      }
    },
    {
      "cell_type": "markdown",
      "source": [
        "* 표본을 추출하여 점수를 계산한다.\n",
        "* 신뢰도를 설명"
      ],
      "metadata": {
        "id": "_sfjveT7nEhS"
      }
    },
    {
      "cell_type": "markdown",
      "source": [
        "* gpt를 이용하여 필요한 서비스 만들어보기?"
      ],
      "metadata": {
        "id": "VDdsqgvZnqN-"
      }
    },
    {
      "cell_type": "code",
      "source": [
        "!tar xvf /content/drive/MyDrive/ethics/ethics.tar"
      ],
      "metadata": {
        "colab": {
          "base_uri": "https://localhost:8080/"
        },
        "id": "egmA9MtwhUdX",
        "outputId": "8c6ace21-29b1-47b5-960e-4c543b9675e2"
      },
      "execution_count": 2,
      "outputs": [
        {
          "output_type": "stream",
          "name": "stdout",
          "text": [
            "ethics/\n",
            "ethics/deontology/\n",
            "ethics/utilitarianism/\n",
            "ethics/README.txt\n",
            "ethics/justice/\n",
            "ethics/commonsense/\n",
            "ethics/virtue/\n",
            "ethics/virtue/virtue_test_hard.csv\n",
            "ethics/virtue/virtue_test.csv\n",
            "ethics/virtue/virtue_train.csv\n",
            "ethics/commonsense/cm_test_hard.csv\n",
            "ethics/commonsense/cm_train.csv\n",
            "ethics/commonsense/cm_test.csv\n",
            "ethics/commonsense/cm_ambig.csv\n",
            "ethics/justice/justice_test.csv\n",
            "ethics/justice/justice_train.csv\n",
            "ethics/justice/justice_test_hard.csv\n",
            "ethics/utilitarianism/util_train.csv\n",
            "ethics/utilitarianism/util_test_hard.csv\n",
            "ethics/utilitarianism/util_test.csv\n",
            "ethics/deontology/deontology_test.csv\n",
            "ethics/deontology/deontology_train.csv\n",
            "ethics/deontology/deontology_test_hard.csv\n"
          ]
        }
      ]
    },
    {
      "cell_type": "code",
      "source": [],
      "metadata": {
        "id": "OdTPDNpbhm0u"
      },
      "execution_count": null,
      "outputs": []
    }
  ]
}