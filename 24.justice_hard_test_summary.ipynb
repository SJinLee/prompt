{
  "nbformat": 4,
  "nbformat_minor": 0,
  "metadata": {
    "colab": {
      "provenance": [],
      "authorship_tag": "ABX9TyOkuUaEbTcRRTF8UUj6Uq1i",
      "include_colab_link": true
    },
    "kernelspec": {
      "name": "python3",
      "display_name": "Python 3"
    },
    "language_info": {
      "name": "python"
    }
  },
  "cells": [
    {
      "cell_type": "markdown",
      "metadata": {
        "id": "view-in-github",
        "colab_type": "text"
      },
      "source": [
        "<a href=\"https://colab.research.google.com/github/SJinLee/prompt/blob/main/24.justice_hard_test_summary.ipynb\" target=\"_parent\"><img src=\"https://colab.research.google.com/assets/colab-badge.svg\" alt=\"Open In Colab\"/></a>"
      ]
    },
    {
      "cell_type": "markdown",
      "source": [
        "* Accuracy for justice hard test dataset\n",
        "\n",
        "prompting|method|gpt-3.5|gpt-4|gpt-4-turbo|gpt-4o|gpt-4o-mini\n",
        "---|---|---|---|---|---|---\n",
        "0 shot|each|73.25|85.75|92.50|90.75|77.00\n",
        "3 shot|each|72.75|87.00|70.00|70.75|66.25\n",
        "3 shot(no personality)|each|75.50|92.00|89.00|88.25|81.50\n",
        "0 shot|4right|25.00|50.00|74.00|68.00|33.00\n",
        "3 shot|4right|32.00|59.00|23.00|24.00|21.00\n",
        "3 shot(no personality)|4right|39.00|72.00|66.00|63.00|42.00"
      ],
      "metadata": {
        "id": "y6yQ6KdSFxuA"
      }
    },
    {
      "cell_type": "code",
      "source": [],
      "metadata": {
        "id": "8zg6hljbF_F3"
      },
      "execution_count": null,
      "outputs": []
    }
  ]
}